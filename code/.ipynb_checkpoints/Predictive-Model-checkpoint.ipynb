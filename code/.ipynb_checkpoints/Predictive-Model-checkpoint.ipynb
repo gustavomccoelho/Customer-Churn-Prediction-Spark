{
 "cells": [
  {
   "cell_type": "code",
   "execution_count": 51,
   "metadata": {},
   "outputs": [],
   "source": [
    "from pyspark.sql import SparkSession\n",
    "from pyspark.sql.functions import col, count, when, isnan, split\n",
    "from pyspark.sql import Row\n",
    "import pandas as pd\n",
    "import numpy as np\n",
    "from pyspark.ml.feature import VectorAssembler\n",
    "from pyspark.ml.classification import GBTClassifier\n",
    "from sklearn.metrics import confusion_matrix\n",
    "from sklearn.metrics import accuracy_score"
   ]
  },
  {
   "cell_type": "code",
   "execution_count": 2,
   "metadata": {},
   "outputs": [],
   "source": [
    "spSession = SparkSession.builder.master(\"local\").appName(\"Local-Session\").getOrCreate()"
   ]
  },
  {
   "cell_type": "markdown",
   "metadata": {},
   "source": [
    "### Loading train and test data"
   ]
  },
  {
   "cell_type": "code",
   "execution_count": 3,
   "metadata": {},
   "outputs": [
    {
     "data": {
      "text/html": [
       "<div>\n",
       "<style scoped>\n",
       "    .dataframe tbody tr th:only-of-type {\n",
       "        vertical-align: middle;\n",
       "    }\n",
       "\n",
       "    .dataframe tbody tr th {\n",
       "        vertical-align: top;\n",
       "    }\n",
       "\n",
       "    .dataframe thead th {\n",
       "        text-align: right;\n",
       "    }\n",
       "</style>\n",
       "<table border=\"1\" class=\"dataframe\">\n",
       "  <thead>\n",
       "    <tr style=\"text-align: right;\">\n",
       "      <th></th>\n",
       "      <th>account_length</th>\n",
       "      <th>number_vmail_messages</th>\n",
       "      <th>total_day_calls</th>\n",
       "      <th>total_day_charge</th>\n",
       "      <th>total_eve_calls</th>\n",
       "      <th>total_eve_charge</th>\n",
       "      <th>total_night_charge</th>\n",
       "      <th>total_intl_calls</th>\n",
       "      <th>total_intl_charge</th>\n",
       "      <th>number_customer_service_calls</th>\n",
       "      <th>state_indexed</th>\n",
       "      <th>international_plan_indexed</th>\n",
       "      <th>churn_indexed</th>\n",
       "      <th>total_day_charge_level</th>\n",
       "      <th>number_customer_service_calls_level</th>\n",
       "    </tr>\n",
       "  </thead>\n",
       "  <tbody>\n",
       "    <tr>\n",
       "      <th>count</th>\n",
       "      <td>976.000000</td>\n",
       "      <td>976.000000</td>\n",
       "      <td>976.000000</td>\n",
       "      <td>976.000000</td>\n",
       "      <td>976.000000</td>\n",
       "      <td>976.000000</td>\n",
       "      <td>976.000000</td>\n",
       "      <td>976.000000</td>\n",
       "      <td>976.000000</td>\n",
       "      <td>976.000000</td>\n",
       "      <td>976.000000</td>\n",
       "      <td>976.000000</td>\n",
       "      <td>976.000000</td>\n",
       "      <td>976.000000</td>\n",
       "      <td>976.000000</td>\n",
       "    </tr>\n",
       "    <tr>\n",
       "      <th>mean</th>\n",
       "      <td>102.107582</td>\n",
       "      <td>6.877049</td>\n",
       "      <td>100.615779</td>\n",
       "      <td>32.427602</td>\n",
       "      <td>99.790984</td>\n",
       "      <td>17.452869</td>\n",
       "      <td>9.082254</td>\n",
       "      <td>4.398566</td>\n",
       "      <td>2.784047</td>\n",
       "      <td>1.851434</td>\n",
       "      <td>20.726434</td>\n",
       "      <td>0.165984</td>\n",
       "      <td>0.494877</td>\n",
       "      <td>0.313525</td>\n",
       "      <td>0.281762</td>\n",
       "    </tr>\n",
       "    <tr>\n",
       "      <th>std</th>\n",
       "      <td>39.452298</td>\n",
       "      <td>13.185744</td>\n",
       "      <td>20.465679</td>\n",
       "      <td>10.480309</td>\n",
       "      <td>19.927751</td>\n",
       "      <td>4.413413</td>\n",
       "      <td>2.257010</td>\n",
       "      <td>2.534674</td>\n",
       "      <td>0.764389</td>\n",
       "      <td>1.565480</td>\n",
       "      <td>14.215050</td>\n",
       "      <td>0.372257</td>\n",
       "      <td>0.500230</td>\n",
       "      <td>0.464163</td>\n",
       "      <td>0.450089</td>\n",
       "    </tr>\n",
       "    <tr>\n",
       "      <th>min</th>\n",
       "      <td>1.000000</td>\n",
       "      <td>0.000000</td>\n",
       "      <td>0.000000</td>\n",
       "      <td>0.000000</td>\n",
       "      <td>42.000000</td>\n",
       "      <td>3.590000</td>\n",
       "      <td>1.970000</td>\n",
       "      <td>0.000000</td>\n",
       "      <td>0.000000</td>\n",
       "      <td>0.000000</td>\n",
       "      <td>0.000000</td>\n",
       "      <td>0.000000</td>\n",
       "      <td>0.000000</td>\n",
       "      <td>0.000000</td>\n",
       "      <td>0.000000</td>\n",
       "    </tr>\n",
       "    <tr>\n",
       "      <th>25%</th>\n",
       "      <td>76.000000</td>\n",
       "      <td>0.000000</td>\n",
       "      <td>88.000000</td>\n",
       "      <td>24.880000</td>\n",
       "      <td>86.000000</td>\n",
       "      <td>14.447500</td>\n",
       "      <td>7.550000</td>\n",
       "      <td>3.000000</td>\n",
       "      <td>2.315000</td>\n",
       "      <td>1.000000</td>\n",
       "      <td>8.000000</td>\n",
       "      <td>0.000000</td>\n",
       "      <td>0.000000</td>\n",
       "      <td>0.000000</td>\n",
       "      <td>0.000000</td>\n",
       "    </tr>\n",
       "    <tr>\n",
       "      <th>50%</th>\n",
       "      <td>101.000000</td>\n",
       "      <td>0.000000</td>\n",
       "      <td>101.000000</td>\n",
       "      <td>31.775000</td>\n",
       "      <td>100.000000</td>\n",
       "      <td>17.585000</td>\n",
       "      <td>8.985000</td>\n",
       "      <td>4.000000</td>\n",
       "      <td>2.780000</td>\n",
       "      <td>1.000000</td>\n",
       "      <td>19.000000</td>\n",
       "      <td>0.000000</td>\n",
       "      <td>0.000000</td>\n",
       "      <td>0.000000</td>\n",
       "      <td>0.000000</td>\n",
       "    </tr>\n",
       "    <tr>\n",
       "      <th>75%</th>\n",
       "      <td>127.000000</td>\n",
       "      <td>0.000000</td>\n",
       "      <td>114.000000</td>\n",
       "      <td>40.430000</td>\n",
       "      <td>113.000000</td>\n",
       "      <td>20.432500</td>\n",
       "      <td>10.722500</td>\n",
       "      <td>6.000000</td>\n",
       "      <td>3.290000</td>\n",
       "      <td>3.000000</td>\n",
       "      <td>32.000000</td>\n",
       "      <td>0.000000</td>\n",
       "      <td>1.000000</td>\n",
       "      <td>1.000000</td>\n",
       "      <td>1.000000</td>\n",
       "    </tr>\n",
       "    <tr>\n",
       "      <th>max</th>\n",
       "      <td>232.000000</td>\n",
       "      <td>50.000000</td>\n",
       "      <td>165.000000</td>\n",
       "      <td>59.640000</td>\n",
       "      <td>168.000000</td>\n",
       "      <td>30.910000</td>\n",
       "      <td>15.970000</td>\n",
       "      <td>20.000000</td>\n",
       "      <td>5.400000</td>\n",
       "      <td>9.000000</td>\n",
       "      <td>50.000000</td>\n",
       "      <td>1.000000</td>\n",
       "      <td>1.000000</td>\n",
       "      <td>1.000000</td>\n",
       "      <td>1.000000</td>\n",
       "    </tr>\n",
       "  </tbody>\n",
       "</table>\n",
       "</div>"
      ],
      "text/plain": [
       "       account_length  number_vmail_messages  total_day_calls  \\\n",
       "count      976.000000             976.000000       976.000000   \n",
       "mean       102.107582               6.877049       100.615779   \n",
       "std         39.452298              13.185744        20.465679   \n",
       "min          1.000000               0.000000         0.000000   \n",
       "25%         76.000000               0.000000        88.000000   \n",
       "50%        101.000000               0.000000       101.000000   \n",
       "75%        127.000000               0.000000       114.000000   \n",
       "max        232.000000              50.000000       165.000000   \n",
       "\n",
       "       total_day_charge  total_eve_calls  total_eve_charge  \\\n",
       "count        976.000000       976.000000        976.000000   \n",
       "mean          32.427602        99.790984         17.452869   \n",
       "std           10.480309        19.927751          4.413413   \n",
       "min            0.000000        42.000000          3.590000   \n",
       "25%           24.880000        86.000000         14.447500   \n",
       "50%           31.775000       100.000000         17.585000   \n",
       "75%           40.430000       113.000000         20.432500   \n",
       "max           59.640000       168.000000         30.910000   \n",
       "\n",
       "       total_night_charge  total_intl_calls  total_intl_charge  \\\n",
       "count          976.000000        976.000000         976.000000   \n",
       "mean             9.082254          4.398566           2.784047   \n",
       "std              2.257010          2.534674           0.764389   \n",
       "min              1.970000          0.000000           0.000000   \n",
       "25%              7.550000          3.000000           2.315000   \n",
       "50%              8.985000          4.000000           2.780000   \n",
       "75%             10.722500          6.000000           3.290000   \n",
       "max             15.970000         20.000000           5.400000   \n",
       "\n",
       "       number_customer_service_calls  state_indexed  \\\n",
       "count                     976.000000     976.000000   \n",
       "mean                        1.851434      20.726434   \n",
       "std                         1.565480      14.215050   \n",
       "min                         0.000000       0.000000   \n",
       "25%                         1.000000       8.000000   \n",
       "50%                         1.000000      19.000000   \n",
       "75%                         3.000000      32.000000   \n",
       "max                         9.000000      50.000000   \n",
       "\n",
       "       international_plan_indexed  churn_indexed  total_day_charge_level  \\\n",
       "count                  976.000000     976.000000              976.000000   \n",
       "mean                     0.165984       0.494877                0.313525   \n",
       "std                      0.372257       0.500230                0.464163   \n",
       "min                      0.000000       0.000000                0.000000   \n",
       "25%                      0.000000       0.000000                0.000000   \n",
       "50%                      0.000000       0.000000                0.000000   \n",
       "75%                      0.000000       1.000000                1.000000   \n",
       "max                      1.000000       1.000000                1.000000   \n",
       "\n",
       "       number_customer_service_calls_level  \n",
       "count                           976.000000  \n",
       "mean                              0.281762  \n",
       "std                               0.450089  \n",
       "min                               0.000000  \n",
       "25%                               0.000000  \n",
       "50%                               0.000000  \n",
       "75%                               1.000000  \n",
       "max                               1.000000  "
      ]
     },
     "execution_count": 3,
     "metadata": {},
     "output_type": "execute_result"
    }
   ],
   "source": [
    "trainDF = spSession.read.csv(\"../dataset/train_1.csv\", header = True, inferSchema = True).drop(\"_c0\") \n",
    "testDF = spSession.read.csv(\"../dataset/test_1.csv\", header = True, inferSchema = True).drop(\"_c0\")  \n",
    "trainDF.toPandas().describe()"
   ]
  },
  {
   "cell_type": "markdown",
   "metadata": {},
   "source": [
    "### Vectorizing data"
   ]
  },
  {
   "cell_type": "code",
   "execution_count": 43,
   "metadata": {},
   "outputs": [],
   "source": [
    "vecAssembler = VectorAssembler(inputCols=[col for col in trainDF.columns if col != \"churn_indexed\"], \n",
    "                               outputCol=\"features\")\n",
    "trainDF2 = vecAssembler.transform(trainDF)\n",
    "testDF2 = vecAssembler.transform(testDF)\n",
    "\n",
    "trainDF2 = trainDF2[\"churn_indexed\", \"features\"]\n",
    "testDF2 = testDF2[\"churn_indexed\", \"features\"]"
   ]
  },
  {
   "cell_type": "markdown",
   "metadata": {},
   "source": [
    "### Training model - Gradient Boosting Classifier"
   ]
  },
  {
   "cell_type": "code",
   "execution_count": 39,
   "metadata": {},
   "outputs": [],
   "source": [
    "gbt = GBTClassifier(labelCol=\"churn_indexed\", featuresCol=\"features\", maxIter=10)\n",
    "model = gbt.fit(trainDF2)"
   ]
  },
  {
   "cell_type": "markdown",
   "metadata": {},
   "source": [
    "### Predictions"
   ]
  },
  {
   "cell_type": "code",
   "execution_count": 46,
   "metadata": {},
   "outputs": [
    {
     "name": "stdout",
     "output_type": "stream",
     "text": [
      "+----------+-------------+--------------------+\n",
      "|prediction|churn_indexed|            features|\n",
      "+----------+-------------+--------------------+\n",
      "|       0.0|          0.0|[101.0,0.0,123.0,...|\n",
      "|       1.0|          0.0|[137.0,0.0,86.0,3...|\n",
      "|       1.0|          0.0|[103.0,29.0,95.0,...|\n",
      "|       0.0|          0.0|[99.0,0.0,123.0,3...|\n",
      "|       0.0|          0.0|[108.0,0.0,78.0,3...|\n",
      "+----------+-------------+--------------------+\n",
      "only showing top 5 rows\n",
      "\n"
     ]
    }
   ],
   "source": [
    "predictions = model.transform(testDF2)\n",
    "predictions.select(\"prediction\", \"churn_indexed\", \"features\").show(5)"
   ]
  },
  {
   "cell_type": "markdown",
   "metadata": {},
   "source": [
    "### Confusion Matrix"
   ]
  },
  {
   "cell_type": "code",
   "execution_count": 50,
   "metadata": {},
   "outputs": [
    {
     "data": {
      "text/html": [
       "<div>\n",
       "<style scoped>\n",
       "    .dataframe tbody tr th:only-of-type {\n",
       "        vertical-align: middle;\n",
       "    }\n",
       "\n",
       "    .dataframe tbody tr th {\n",
       "        vertical-align: top;\n",
       "    }\n",
       "\n",
       "    .dataframe thead th {\n",
       "        text-align: right;\n",
       "    }\n",
       "</style>\n",
       "<table border=\"1\" class=\"dataframe\">\n",
       "  <thead>\n",
       "    <tr style=\"text-align: right;\">\n",
       "      <th></th>\n",
       "      <th>yes_true</th>\n",
       "      <th>no_true</th>\n",
       "    </tr>\n",
       "  </thead>\n",
       "  <tbody>\n",
       "    <tr>\n",
       "      <th>yes_pred</th>\n",
       "      <td>1337</td>\n",
       "      <td>106</td>\n",
       "    </tr>\n",
       "    <tr>\n",
       "      <th>no_pred</th>\n",
       "      <td>46</td>\n",
       "      <td>178</td>\n",
       "    </tr>\n",
       "  </tbody>\n",
       "</table>\n",
       "</div>"
      ],
      "text/plain": [
       "          yes_true  no_true\n",
       "yes_pred      1337      106\n",
       "no_pred         46      178"
      ]
     },
     "execution_count": 50,
     "metadata": {},
     "output_type": "execute_result"
    }
   ],
   "source": [
    "pd.DataFrame(confusion_matrix(predictions.toPandas()[\"churn_indexed\"], predictions.toPandas()[\"prediction\"]), \n",
    "             columns = [\"yes_true\",\"no_true\"], index = [\"yes_pred\",\"no_pred\"])"
   ]
  },
  {
   "cell_type": "markdown",
   "metadata": {},
   "source": [
    "### Accuracy"
   ]
  },
  {
   "cell_type": "code",
   "execution_count": 53,
   "metadata": {},
   "outputs": [
    {
     "name": "stdout",
     "output_type": "stream",
     "text": [
      "Model's accuracy: 91.0%\n"
     ]
    }
   ],
   "source": [
    "print(\"Model's accuracy: \" + \n",
    "      str(100*round(accuracy_score(predictions.toPandas()[\"churn_indexed\"], \n",
    "                                   predictions.toPandas()[\"prediction\"]),2)) + \"%\")"
   ]
  }
 ],
 "metadata": {
  "kernelspec": {
   "display_name": "Python 3",
   "language": "python",
   "name": "python3"
  },
  "language_info": {
   "codemirror_mode": {
    "name": "ipython",
    "version": 3
   },
   "file_extension": ".py",
   "mimetype": "text/x-python",
   "name": "python",
   "nbconvert_exporter": "python",
   "pygments_lexer": "ipython3",
   "version": "3.7.6"
  }
 },
 "nbformat": 4,
 "nbformat_minor": 4
}
